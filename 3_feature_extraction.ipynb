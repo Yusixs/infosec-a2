{
 "cells": [
  {
   "cell_type": "code",
   "execution_count": 26,
   "metadata": {},
   "outputs": [],
   "source": [
    "import pandas as pd\n",
    "import numpy as np\n",
    "import re\n",
    "import tldextract\n",
    "from scipy.stats import entropy\n",
    "from collections import Counter\n"
   ]
  },
  {
   "cell_type": "code",
   "execution_count": 27,
   "metadata": {},
   "outputs": [],
   "source": [
    "# Function to calculate entropy of a string\n",
    "def calculate_entropy(text):\n",
    "    p, lens = Counter(text), np.float64(len(text))\n",
    "    return entropy(list(p.values()), base=2) / lens if lens else 0"
   ]
  },
  {
   "cell_type": "code",
   "execution_count": 28,
   "metadata": {},
   "outputs": [],
   "source": [
    "# Function to calculate character continuity rate\n",
    "def character_continuity_rate(domain):\n",
    "    letter_blocks = re.findall(r'[a-zA-Z]+', domain)\n",
    "    digit_blocks = re.findall(r'[0-9]+', domain)\n",
    "    symbol_blocks = re.findall(r'[^a-zA-Z0-9]+', domain)\n",
    "    \n",
    "    longest_letter = max(map(len, letter_blocks), default=0)\n",
    "    longest_digit = max(map(len, digit_blocks), default=0)\n",
    "    longest_symbol = max(map(len, symbol_blocks), default=0)\n",
    "    \n",
    "    return (longest_letter + longest_digit + longest_symbol) / max(len(domain), 1)"
   ]
  },
  {
   "cell_type": "code",
   "execution_count": 29,
   "metadata": {},
   "outputs": [],
   "source": [
    "# Function to extract URL features\n",
    "def extract_features(url):\n",
    "    extracted = tldextract.extract(url)\n",
    "    domain = extracted.domain\n",
    "    suffix = extracted.suffix\n",
    "    path = url.split('/')[3:]  # Everything after domain\n",
    "    path_str = '/'.join(path)\n",
    "    \n",
    "    # Length Features\n",
    "    url_len = len(url)\n",
    "    domain_len = len(domain)\n",
    "    path_len = len(path_str)\n",
    "    \n",
    "    # Entropy\n",
    "    domain_entropy = calculate_entropy(domain)\n",
    "    suffix_entropy = calculate_entropy(suffix)\n",
    "    \n",
    "    # Character Continuity Rate\n",
    "    continuity_rate = character_continuity_rate(domain)\n",
    "    \n",
    "    # Count of special characters, digits, and tokens\n",
    "    symbol_count = len(re.findall(r'[:/.?=&]', url))\n",
    "    token_count = len(re.split(r'[-._]', domain))  # Tokens in domain\n",
    "    digit_count = sum(c.isdigit() for c in url)\n",
    "    \n",
    "    # Length Ratios\n",
    "    path_url_ratio = path_len / max(url_len, 1)\n",
    "    domain_url_ratio = domain_len / max(url_len, 1)\n",
    "    \n",
    "    return {\n",
    "        \"url_len\": url_len,\n",
    "        \"domain_len\": domain_len,\n",
    "        \"path_len\": path_len,\n",
    "        \"domain_entropy\": domain_entropy,\n",
    "        \"suffix_entropy\": suffix_entropy,\n",
    "        \"continuity_rate\": continuity_rate,\n",
    "        \"symbol_count\": symbol_count,\n",
    "        \"token_count\": token_count,\n",
    "        \"digit_count\": digit_count,\n",
    "        \"path_url_ratio\": path_url_ratio,\n",
    "        \"domain_url_ratio\": domain_url_ratio,\n",
    "    }"
   ]
  },
  {
   "cell_type": "code",
   "execution_count": 30,
   "metadata": {},
   "outputs": [],
   "source": [
    "# Load dataset\n",
    "file_path = \"./data/merged/cleaned_balanced_data.csv\" \n",
    "df = pd.read_csv(file_path)\n",
    "\n",
    "# Extract features for each URL\n",
    "df_features = df['url'].apply(extract_features).apply(pd.Series)\n",
    "\n",
    "# Merge with original dataset\n",
    "df_final = pd.concat([df, df_features], axis=1)"
   ]
  },
  {
   "cell_type": "code",
   "execution_count": 31,
   "metadata": {},
   "outputs": [
    {
     "name": "stdout",
     "output_type": "stream",
     "text": [
      "Feature extraction complete. Saved as 'processed_urls.csv'.\n"
     ]
    }
   ],
   "source": [
    "\n",
    "# Save the processed dataset\n",
    "df_final.to_csv(\"./data/merged/processed_urls.csv\", index=False)\n",
    "\n",
    "print(\"Feature extraction complete. Saved as 'processed_urls.csv'.\")"
   ]
  },
  {
   "cell_type": "code",
   "execution_count": null,
   "metadata": {},
   "outputs": [],
   "source": []
  },
  {
   "cell_type": "code",
   "execution_count": null,
   "metadata": {},
   "outputs": [],
   "source": []
  }
 ],
 "metadata": {
  "kernelspec": {
   "display_name": "Python 3",
   "language": "python",
   "name": "python3"
  },
  "language_info": {
   "codemirror_mode": {
    "name": "ipython",
    "version": 3
   },
   "file_extension": ".py",
   "mimetype": "text/x-python",
   "name": "python",
   "nbconvert_exporter": "python",
   "pygments_lexer": "ipython3",
   "version": "3.12.5"
  }
 },
 "nbformat": 4,
 "nbformat_minor": 2
}
